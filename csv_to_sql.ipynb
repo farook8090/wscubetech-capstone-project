{
 "cells": [
  {
   "cell_type": "code",
   "execution_count": null,
   "id": "dac01d6b-f19e-420a-b1ac-2738b1a17674",
   "metadata": {},
   "outputs": [],
   "source": [
    "# pip install mysql-connector-python"
   ]
  },
  {
   "cell_type": "code",
   "execution_count": 1,
   "id": "1d9bd160-ba92-48a9-82e8-9b8071f26e4e",
   "metadata": {},
   "outputs": [
    {
     "name": "stdout",
     "output_type": "stream",
     "text": [
      "Processing order_items.csv\n",
      "NaN values before replacement:\n",
      "order_id               0\n",
      "order_item_id          0\n",
      "product_id             0\n",
      "seller_id              0\n",
      "shipping_limit_date    0\n",
      "price                  0\n",
      "freight_value          0\n",
      "dtype: int64\n",
      "\n"
     ]
    }
   ],
   "source": [
    "import pandas as pd\n",
    "import mysql.connector\n",
    "import os\n",
    "\n",
    "# List of CSV files and their corresponding table names\n",
    "# csv_files = [\n",
    "#     ('customers.csv', 'customers'),\n",
    "#     ('orders.csv', 'orders'),\n",
    "#     ('order_items.csv', 'order_items'),\n",
    "#     ('sellers.csv', 'sellers'),\n",
    "#     ('products.csv', 'products'),\n",
    "#     ('payments.csv', 'payments'),\n",
    "#     ('geolocation.csv', 'geolocation'),\n",
    "# ]\n",
    "\n",
    "csv_files = [\n",
    "    ('order_items.csv', 'order_items'),\n",
    "]\n",
    "\n",
    "\n",
    "# Connect to the MySQL database\n",
    "conn = mysql.connector.connect(\n",
    "    host='localhost',\n",
    "    user='root',\n",
    "    password='root',\n",
    "    database='walmart'\n",
    ")\n",
    "cursor = conn.cursor()\n",
    "\n",
    "# Folder containing the CSV files\n",
    "# folder_path = 'J:\\YouTube\\WsCubeTech\\capstone project\\Walmart Sales\\Ecommerce'\n",
    "folder_path = r'J:\\YouTube\\WsCubeTech\\capstone project\\Walmart Sales\\Ecommerce'\n",
    "\n",
    "def get_sql_type(dtype):\n",
    "    if pd.api.types.is_integer_dtype(dtype):\n",
    "        return 'INT'\n",
    "    elif pd.api.types.is_float_dtype(dtype):\n",
    "        return 'FLOAT'\n",
    "    elif pd.api.types.is_bool_dtype(dtype):\n",
    "        return 'BOOLEAN'\n",
    "    elif pd.api.types.is_datetime64_any_dtype(dtype):\n",
    "        return 'DATETIME'\n",
    "    else:\n",
    "        return 'TEXT'\n",
    "\n",
    "for csv_file, table_name in csv_files:\n",
    "    file_path = os.path.join(folder_path, csv_file)\n",
    "    \n",
    "    # Read the CSV file into a pandas DataFrame\n",
    "    df = pd.read_csv(file_path)\n",
    "    \n",
    "    # Replace NaN with None to handle SQL NULL\n",
    "    df = df.where(pd.notnull(df), None)\n",
    "    \n",
    "    # Debugging: Check for NaN values\n",
    "    print(f\"Processing {csv_file}\")\n",
    "    print(f\"NaN values before replacement:\\n{df.isnull().sum()}\\n\")\n",
    "\n",
    "    # Clean column names\n",
    "    df.columns = [col.replace(' ', '_').replace('-', '_').replace('.', '_') for col in df.columns]\n",
    "\n",
    "    # Generate the CREATE TABLE statement with appropriate data types\n",
    "    columns = ', '.join([f'`{col}` {get_sql_type(df[col].dtype)}' for col in df.columns])\n",
    "    create_table_query = f'CREATE TABLE IF NOT EXISTS `{table_name}` ({columns})'\n",
    "    cursor.execute(create_table_query)\n",
    "\n",
    "    # Insert DataFrame data into the MySQL table\n",
    "    for _, row in df.iterrows():\n",
    "        # Convert row to tuple and handle NaN/None explicitly\n",
    "        values = tuple(None if pd.isna(x) else x for x in row)\n",
    "        sql = f\"INSERT INTO `{table_name}` ({', '.join(['`' + col + '`' for col in df.columns])}) VALUES ({', '.join(['%s'] * len(row))})\"\n",
    "        cursor.execute(sql, values)\n",
    "\n",
    "    # Commit the transaction for the current CSV file\n",
    "    conn.commit()\n",
    "\n",
    "# Close the connection\n",
    "conn.close()"
   ]
  },
  {
   "cell_type": "code",
   "execution_count": 3,
   "id": "408b09b9-8339-455c-bdbb-2488eaec7523",
   "metadata": {},
   "outputs": [
    {
     "name": "stdout",
     "output_type": "stream",
     "text": [
      "Collecting mysql-connector-python\n",
      "  Downloading mysql_connector_python-9.3.0-cp313-cp313-win_amd64.whl.metadata (7.7 kB)\n",
      "Downloading mysql_connector_python-9.3.0-cp313-cp313-win_amd64.whl (16.4 MB)\n",
      "   ---------------------------------------- 0.0/16.4 MB ? eta -:--:--\n",
      "   --- ------------------------------------ 1.3/16.4 MB 10.4 MB/s eta 0:00:02\n",
      "   ----- ---------------------------------- 2.4/16.4 MB 7.8 MB/s eta 0:00:02\n",
      "   ------------ --------------------------- 5.0/16.4 MB 9.4 MB/s eta 0:00:02\n",
      "   --------------- ------------------------ 6.3/16.4 MB 8.8 MB/s eta 0:00:02\n",
      "   ----------------- ---------------------- 7.1/16.4 MB 7.7 MB/s eta 0:00:02\n",
      "   ------------------- -------------------- 7.9/16.4 MB 6.7 MB/s eta 0:00:02\n",
      "   -------------------- ------------------- 8.4/16.4 MB 6.2 MB/s eta 0:00:02\n",
      "   --------------------- ------------------ 8.9/16.4 MB 5.8 MB/s eta 0:00:02\n",
      "   ----------------------- ---------------- 9.4/16.4 MB 5.5 MB/s eta 0:00:02\n",
      "   ------------------------ --------------- 10.2/16.4 MB 5.2 MB/s eta 0:00:02\n",
      "   -------------------------- ------------- 10.7/16.4 MB 5.0 MB/s eta 0:00:02\n",
      "   --------------------------- ------------ 11.3/16.4 MB 4.6 MB/s eta 0:00:02\n",
      "   ---------------------------- ----------- 11.5/16.4 MB 4.5 MB/s eta 0:00:02\n",
      "   ---------------------------- ----------- 11.8/16.4 MB 4.2 MB/s eta 0:00:02\n",
      "   ------------------------------ --------- 12.3/16.4 MB 4.0 MB/s eta 0:00:02\n",
      "   ------------------------------ --------- 12.6/16.4 MB 3.9 MB/s eta 0:00:01\n",
      "   -------------------------------- ------- 13.1/16.4 MB 3.8 MB/s eta 0:00:01\n",
      "   -------------------------------- ------- 13.4/16.4 MB 3.7 MB/s eta 0:00:01\n",
      "   --------------------------------- ------ 13.9/16.4 MB 3.6 MB/s eta 0:00:01\n",
      "   ----------------------------------- ---- 14.4/16.4 MB 3.5 MB/s eta 0:00:01\n",
      "   ------------------------------------ --- 14.9/16.4 MB 3.5 MB/s eta 0:00:01\n",
      "   ------------------------------------- -- 15.5/16.4 MB 3.4 MB/s eta 0:00:01\n",
      "   ---------------------------------------  16.0/16.4 MB 3.4 MB/s eta 0:00:01\n",
      "   ---------------------------------------- 16.4/16.4 MB 3.3 MB/s eta 0:00:00\n",
      "Installing collected packages: mysql-connector-python\n",
      "Successfully installed mysql-connector-python-9.3.0\n",
      "Note: you may need to restart the kernel to use updated packages.\n"
     ]
    }
   ],
   "source": [
    "# pip install mysql-connector-python"
   ]
  },
  {
   "cell_type": "code",
   "execution_count": null,
   "id": "5517324f-f971-4093-9c23-aadc2508691e",
   "metadata": {},
   "outputs": [],
   "source": []
  }
 ],
 "metadata": {
  "kernelspec": {
   "display_name": "Python 3 (ipykernel)",
   "language": "python",
   "name": "python3"
  },
  "language_info": {
   "codemirror_mode": {
    "name": "ipython",
    "version": 3
   },
   "file_extension": ".py",
   "mimetype": "text/x-python",
   "name": "python",
   "nbconvert_exporter": "python",
   "pygments_lexer": "ipython3",
   "version": "3.13.5"
  }
 },
 "nbformat": 4,
 "nbformat_minor": 5
}
